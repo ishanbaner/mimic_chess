{
 "cells": [
  {
   "cell_type": "code",
   "execution_count": null,
   "metadata": {},
   "outputs": [],
   "source": [
    "import chess\n",
    "import chess.engine\n",
    "import pandas as pd\n",
    "import tensorflow as tf\n",
    "from keras.models import Sequential\n",
    "from keras.models import load_model\n",
    "from keras.layers import Dense\n",
    "from keras.optimizers import Adam\n",
    "import math\n",
    "import numpy as np\n",
    "import random\n",
    "from collections import deque"
   ]
  },
  {
   "cell_type": "code",
   "execution_count": null,
   "metadata": {},
   "outputs": [],
   "source": [
    "class Agent:\n",
    "\n",
    "    def _build_model1(self):\n",
    "        model1 = Sequential()\n",
    "        model1.add(Dense(24,input_dim=64,activation='relu'))\n",
    "        model1.add(Dense(24, activation='relu'))\n",
    "        model1.add(Dense(1,activation='linear'))\n",
    "        model1.compile(loss='mse',optimizer = Adam(learning_rate = 0.1))\n",
    "        return(model1)\n",
    "    \n",
    "    def _build_model2(self):\n",
    "        model2 = Sequential()\n",
    "        model2.add(Dense(24,input_dim=64,activation='relu'))\n",
    "        model2.add(Dense(24, activation='relu'))\n",
    "        model2.add(Dense(1,activation='linear'))\n",
    "        model2.compile(loss='mse',optimizer = Adam(learning_rate = 0.1))\n",
    "        return(model2)\n"
   ]
  },
  {
   "cell_type": "code",
   "execution_count": 9,
   "metadata": {},
   "outputs": [
    {
     "name": "stdout",
     "output_type": "stream",
     "text": [
      "Event: Live Chess\n",
      "White: MagnusCarlsen\n",
      "Black: Chigorinetz\n",
      "Result: 1-0\n",
      "Move 5: e2e4\n"
     ]
    }
   ],
   "source": [
    "import chess.pgn\n",
    "\n",
    "# Path to the PGN file\n",
    "pgn_file_path = \"/home/ishan/Downloads/MagnusCarlsen-white.pgn\"\n",
    "\n",
    "# Open the PGN file\n",
    "with open(pgn_file_path, \"r\") as pgn_file:\n",
    "    game = chess.pgn.read_game(pgn_file)\n",
    "    game = chess.pgn.read_game(pgn_file)\n",
    "\n",
    "# Access game information\n",
    "print(\"Event:\", game.headers[\"Event\"])\n",
    "print(\"White:\", game.headers[\"White\"])\n",
    "print(\"Black:\", game.headers[\"Black\"])\n",
    "print(\"Result:\", game.headers[\"Result\"])\n",
    "\n",
    "# Iterate through all moves in the game\n",
    "board = game.board()\n",
    "for move in game.mainline_moves():\n",
    "    board.push(move)\n",
    "    #print(board)\n",
    "    #print('-------------')\n",
    "\n",
    "# Access a specific move (e.g., the 5th move)\n",
    "move_number = 5\n",
    "moves = list(game.mainline_moves())\n",
    "if move_number <= len(moves):\n",
    "    print(f\"Move {move_number}:\", moves[move_number-1])\n",
    "else:\n",
    "    print(f\"Move {move_number} does not exist in this game.\")\n"
   ]
  },
  {
   "cell_type": "code",
   "execution_count": 10,
   "metadata": {},
   "outputs": [],
   "source": [
    "def boardlist(board):\n",
    "    board_list=[]\n",
    "    for r in range(0,8):\n",
    "        for c in range(0,8):\n",
    "                    sq=r*8+c\n",
    "                    if str(board.piece_at(sq))=='K':\n",
    "                      piece=9999\n",
    "                    elif str(board.piece_at(sq))=='k':\n",
    "                      piece=-9999\n",
    "                    elif str(board.piece_at(sq))=='Q':\n",
    "                      piece=90\n",
    "                    elif str(board.piece_at(sq))=='q':\n",
    "                      piece=-90\n",
    "                    elif str(board.piece_at(sq))=='R':\n",
    "                      piece=50\n",
    "                    elif str(board.piece_at(sq))=='r':\n",
    "                      piece=-50\n",
    "                    elif str(board.piece_at(sq))=='B':\n",
    "                      piece=30\n",
    "                    elif str(board.piece_at(sq))=='b':\n",
    "                      piece=-30\n",
    "                    elif str(board.piece_at(sq))=='N':\n",
    "                      piece=30\n",
    "                    elif str(board.piece_at(sq))=='n':\n",
    "                      piece=-30\n",
    "                    elif str(board.piece_at(sq))=='P':\n",
    "                      piece=10\n",
    "                    elif str(board.piece_at(sq))=='p':\n",
    "                      piece=-10\n",
    "                    else:\n",
    "                      piece=0\n",
    "\n",
    "                    board_list+=[piece]\n",
    "    return(board_list)"
   ]
  },
  {
   "cell_type": "code",
   "execution_count": 11,
   "metadata": {},
   "outputs": [
    {
     "name": "stdout",
     "output_type": "stream",
     "text": [
      "65\n",
      "130\n",
      "195\n",
      "260\n",
      "325\n",
      "390\n",
      "455\n",
      "520\n",
      "585\n",
      "650\n",
      "[0, 0, 0, 0, 0, 0, 0, 0, 0, 0, 0, 0, 0, 0, -50, 0, 0, 10, 0, 9999, 0, 10, 0, 0, 0, 0, 0, 50, 0, 0, 0, 0, 0, 0, 0, 10, 0, 0, -30, 0, 0, 0, 0, 0, 0, 0, 0, 10, -10, 0, -10, 0, 0, -10, 90, -10, 0, 0, 0, 0, -50, 0, -9999, 0]\n",
      "d2d4\n"
     ]
    }
   ],
   "source": [
    "#Creating the board dataset\n",
    "\n",
    "import chess.pgn\n",
    "\n",
    "# Path to the PGN file\n",
    "pgn_file_path = \"/home/ishan/Downloads/MagnusCarlsen-white.pgn\"\n",
    "\n",
    "# Open the PGN file\n",
    "board_pos=[]\n",
    "moves=[]\n",
    "for i in range(10):\n",
    "    with open(pgn_file_path, \"r\") as pgn_file:\n",
    "        game = chess.pgn.read_game(pgn_file)\n",
    "        game = chess.pgn.read_game(pgn_file)\n",
    "\n",
    "    # Access game information\n",
    "    #print(\"Event:\", game.headers[\"Event\"])\n",
    "    #print(\"White:\", game.headers[\"White\"])\n",
    "    #print(\"Black:\", game.headers[\"Black\"])\n",
    "    #print(\"Result:\", game.headers[\"Result\"])\n",
    "\n",
    "    # Iterate through all moves in the game\n",
    "    board = game.board()\n",
    "    c=0\n",
    "    for move in game.mainline_moves():\n",
    "        if c%2==0:\n",
    "            board_pos+=[board]\n",
    "            moves+=[move]\n",
    "        board.push(move)\n",
    "board_pos=[boardlist(x) for x in board_pos]\n"
   ]
  },
  {
   "cell_type": "code",
   "execution_count": 46,
   "metadata": {},
   "outputs": [],
   "source": [
    "def numtopos(n):\n",
    "    vals={0:'a',1:'b',2:'c',3:'d',4:'e',5:'f',6:'g',7:'h'}\n",
    "    col=vals[n%8]\n",
    "    row=n//8+1\n",
    "    row=str(row)\n",
    "    return(col+row)\n",
    "\n",
    "def postonum(p):\n",
    "    cols={'a':0,'b':1,'c':2,'d':3,'e':4,'f':5,'g':6,'h':7}\n",
    "    n=cols[p[0]]+8*(int(p[1])-1)\n",
    "    return(n)"
   ]
  },
  {
   "cell_type": "code",
   "execution_count": 1,
   "metadata": {},
   "outputs": [
    {
     "data": {
      "text/plain": [
       "'d2'"
      ]
     },
     "execution_count": 1,
     "metadata": {},
     "output_type": "execute_result"
    }
   ],
   "source": [
    "#Training\n",
    "\n",
    "episodes=1\n",
    "\n",
    "for i in range(len(episodes)):\n",
    "    "
   ]
  }
 ],
 "metadata": {
  "kernelspec": {
   "display_name": "Python 3",
   "language": "python",
   "name": "python3"
  },
  "language_info": {
   "codemirror_mode": {
    "name": "ipython",
    "version": 3
   },
   "file_extension": ".py",
   "mimetype": "text/x-python",
   "name": "python",
   "nbconvert_exporter": "python",
   "pygments_lexer": "ipython3",
   "version": "3.11.2"
  }
 },
 "nbformat": 4,
 "nbformat_minor": 2
}
